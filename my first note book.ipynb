{
    "nbformat_minor": 1, 
    "metadata": {
        "language_info": {
            "pygments_lexer": "ipython3", 
            "name": "python", 
            "file_extension": ".py", 
            "nbconvert_exporter": "python", 
            "mimetype": "text/x-python", 
            "codemirror_mode": {
                "name": "ipython", 
                "version": 3
            }, 
            "version": "3.5.4"
        }, 
        "kernelspec": {
            "language": "python3", 
            "name": "python3", 
            "display_name": "Python 3.5 with Spark"
        }
    }, 
    "nbformat": 4, 
    "cells": [
        {
            "source": "# My Jupyter Notebook on IBM Data Science Experience\n", 
            "metadata": {}, 
            "cell_type": "markdown"
        }, 
        {
            "execution_count": 6, 
            "metadata": {}, 
            "source": "import pandas as pd\nimport numpy as np\n", 
            "outputs": [], 
            "cell_type": "code"
        }, 
        {
            "execution_count": 7, 
            "metadata": {}, 
            "source": "# HAMMAD YOUSUF", 
            "outputs": [], 
            "cell_type": "code"
        }, 
        {
            "execution_count": 8, 
            "metadata": {}, 
            "source": " i am intreasted in data science because it new for me", 
            "outputs": [
                {
                    "ename": "SyntaxError", 
                    "evalue": "invalid syntax (<ipython-input-8-fedf4e308459>, line 1)", 
                    "output_type": "error", 
                    "traceback": [
                        "\u001b[0;36m  File \u001b[0;32m\"<ipython-input-8-fedf4e308459>\"\u001b[0;36m, line \u001b[0;32m1\u001b[0m\n\u001b[0;31m    i am intreasted in data science because it new for me\u001b[0m\n\u001b[0m       ^\u001b[0m\n\u001b[0;31mSyntaxError\u001b[0m\u001b[0;31m:\u001b[0m invalid syntax\n"
                    ]
                }
            ], 
            "cell_type": "code"
        }, 
        {
            "source": "### code is supposed to do coding then excution in cell", 
            "metadata": {}, 
            "cell_type": "markdown"
        }, 
        {
            "execution_count": 9, 
            "metadata": {
                "scrolled": true
            }, 
            "source": "1+4\n", 
            "outputs": [
                {
                    "execution_count": 9, 
                    "metadata": {}, 
                    "data": {
                        "text/plain": "5"
                    }, 
                    "output_type": "execute_result"
                }
            ], 
            "cell_type": "code"
        }, 
        {
            "source": "<!DOCTYPE html>\n<html>\n<body>\n\n<h2>The samp Element</h2>\n<p>The samp element represents output from a program or computing system:</p>\n\n<p>If you input wrong value, the program will return <samp>Error!</samp></p>\n\n</body>\n</html>\n", 
            "metadata": {}, 
            "cell_type": "markdown"
        }
    ]
}
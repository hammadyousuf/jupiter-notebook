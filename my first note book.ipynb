{
    "nbformat_minor": 1, 
    "metadata": {
        "language_info": {
            "pygments_lexer": "ipython3", 
            "name": "python", 
            "file_extension": ".py", 
            "nbconvert_exporter": "python", 
            "mimetype": "text/x-python", 
            "codemirror_mode": {
                "name": "ipython", 
                "version": 3
            }, 
            "version": "3.5.4"
        }, 
        "kernelspec": {
            "language": "python3", 
            "name": "python3", 
            "display_name": "Python 3.5 with Spark"
        }
    }, 
    "nbformat": 4, 
    "cells": [
        {
            "source": "# My Jupyter Notebook on IBM Data Science Experience\n", 
            "metadata": {}, 
            "cell_type": "markdown"
        }, 
        {
            "execution_count": null, 
            "metadata": {}, 
            "source": "# HAMMAD YOUSUF", 
            "outputs": [], 
            "cell_type": "code"
        }, 
        {
            "execution_count": null, 
            "metadata": {}, 
            "source": " i am intreasted in data science because it new for me", 
            "outputs": [], 
            "cell_type": "code"
        }, 
        {
            "source": "### code is supposed to do coding then excution in cell", 
            "metadata": {}, 
            "cell_type": "markdown"
        }, 
        {
            "execution_count": 1, 
            "metadata": {
                "scrolled": true
            }, 
            "source": "1+4\n", 
            "outputs": [
                {
                    "name": "stdout", 
                    "output_type": "stream", 
                    "text": "Waiting for a Spark session to start...\nSpark Initialization Done! ApplicationId = app-20180925101721-0000\n"
                }, 
                {
                    "execution_count": 1, 
                    "metadata": {}, 
                    "data": {
                        "text/plain": "5"
                    }, 
                    "output_type": "execute_result"
                }
            ], 
            "cell_type": "code"
        }, 
        {
            "source": "<!DOCTYPE html>\n<html>\n<body>\n\n<h2>The samp Element</h2>\n<p>The samp element represents output from a program or computing system:</p>\n\n<p>If you input wrong value, the program will return <samp>Error!</samp></p>\n\n</body>\n</html>\n", 
            "metadata": {}, 
            "cell_type": "markdown"
        }
    ]
}